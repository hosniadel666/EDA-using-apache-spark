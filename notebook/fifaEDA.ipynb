﻿{
  "metadata": {
    "name": "fifaEDA",
    "kernelspec": {
      "language": "scala",
      "name": "spark2-scala"
    },
    "language_info": {
      "codemirror_mode": "text/x-scala",
      "file_extension": ".scala",
      "mimetype": "text/x-scala",
      "name": "scala",
      "pygments_lexer": "scala"
    }
  },
  "nbformat": 4,
  "nbformat_minor": 2,
  "cells": [
    {
      "cell_type": "markdown",
      "metadata": {},
      "source": "# Exploratory Data Analysis on FIFA 21 Dataset"
    },
    {
      "cell_type": "code",
      "execution_count": 1,
      "metadata": {
        "autoscroll": "auto"
      },
      "outputs": [],
      "source": "import org.apache.spark.sql._\nimport org.apache.spark.sql.functions._\n"
    },
    {
      "cell_type": "code",
      "execution_count": 2,
      "metadata": {
        "autoscroll": "auto"
      },
      "outputs": [],
      "source": "val spark \u003d SparkSession\n  .builder\n  .appName(\"EDA_Using_Spark\")\n  .master(\"local[*]\")\n  .getOrCreate()"
    },
    {
      "cell_type": "code",
      "execution_count": 3,
      "metadata": {
        "autoscroll": "auto"
      },
      "outputs": [],
      "source": "import spark.implicits._\nval df \u003d spark.read\n  .option(\"header\", \"true\")\n  .option(\"inferSchema\", \"true\")\n  .csv(\"/home/hosniadel/IdeaProjects/EDA-Using-Spark/data/fifa_dataset/players_21.csv\")\n  .select(\"sofifa_id\", \"short_name\", \"age\", \"height_cm\",\n                \"weight_kg\", \"nationality\",\n                \"club_name\", \"league_name\", \"league_rank\",\n                \"overall\", \"value_eur\", \"player_positions\",\n                \"preferred_foot\", \"international_reputation\", \"loaned_from\",\n                \"passing\", \"shooting\", \"dribbling\",\n                \"defending\", \"physic\", \"skill_ball_control\")\n                \ndf.printSchema()\ndf.createOrReplaceTempView(\"fifa\")\n"
    },
    {
      "cell_type": "code",
      "execution_count": 4,
      "metadata": {
        "autoscroll": "auto"
      },
      "outputs": [],
      "source": "%spark\nval query_1 \u003d df.dropDuplicates(\"short_name\", \"nationality\")\n            .select(\"nationality\")\n            .groupBy(\"nationality\")\n            .agg(count(\"nationality\").as(\"players count\"))\n            .orderBy(desc(\"players count\"))\nquery_1.show()\nquery_1.createOrReplaceTempView(\"query_1\")"
    },
    {
      "cell_type": "code",
      "execution_count": 5,
      "metadata": {
        "autoscroll": "auto"
      },
      "outputs": [],
      "source": "%sql\nSELECT SUM(`players count`) AS `Total number of players in fifa 21` FROM query_1;"
    },
    {
      "cell_type": "code",
      "execution_count": 6,
      "metadata": {
        "autoscroll": "auto"
      },
      "outputs": [],
      "source": "%sql\nSELECT * FROM query_1;"
    },
    {
      "cell_type": "markdown",
      "metadata": {},
      "source": "## Second Query"
    },
    {
      "cell_type": "code",
      "execution_count": 8,
      "metadata": {
        "autoscroll": "auto"
      },
      "outputs": [],
      "source": "val query_2 \u003d df.dropDuplicates(\"short_name\")\n            .select(\"age\")\n            .groupBy(\"age\")\n            .agg(count(\"age\").as(\"players count\"))\n            .orderBy(desc(\"players count\"))\nquery_2.show()\nquery_2.createOrReplaceTempView(\"query_2\")"
    },
    {
      "cell_type": "code",
      "execution_count": 9,
      "metadata": {
        "autoscroll": "auto"
      },
      "outputs": [],
      "source": "%sql\nSELECT * FROM query_2;"
    },
    {
      "cell_type": "code",
      "execution_count": 10,
      "metadata": {
        "autoscroll": "auto"
      },
      "outputs": [],
      "source": "%sql\n-- Get the oldest and youngest players\nSELECT MAX(age) AS `Maximum player age`, MIN(age) AS `Minimum player age` FROM query_2;"
    },
    {
      "cell_type": "code",
      "execution_count": 11,
      "metadata": {
        "autoscroll": "auto"
      },
      "outputs": [],
      "source": "%sql\n-- Get info about the oldest player\nSELECT * FROM fifa WHERE age IN (SELECT MAX(AGE) FROM queRy_2);"
    },
    {
      "cell_type": "code",
      "execution_count": 12,
      "metadata": {
        "autoscroll": "auto"
      },
      "outputs": [],
      "source": "%sql\n-- Get info about the youngest players\nSELECT * FROM fifa WHERE age IN (SELECT MIN(AGE) FROM queRy_2);"
    },
    {
      "cell_type": "code",
      "execution_count": 13,
      "metadata": {
        "autoscroll": "auto"
      },
      "outputs": [],
      "source": "%sql\n-- Get info about the youngest and expensive player\nSELECT * FROM fifa WHERE age IN (SELECT MIN(AGE) FROM queRy_2) order by value_eur DESC LIMIT 1;"
    },
    {
      "cell_type": "code",
      "execution_count": 14,
      "metadata": {
        "autoscroll": "auto"
      },
      "outputs": [],
      "source": "\nval query_3 \u003d df.select(\"*\")\n            .filter(col(\"club_name\").isNull)\n            .groupBy(\"nationality\")\n            .agg(count(\"short_name\").as(\"players count\"))\n            .orderBy(desc(\"players count\"))\n            \n        \n            \nquery_3.show()\n            \nquery_3.createOrReplaceTempView(\"query_3\")"
    },
    {
      "cell_type": "code",
      "execution_count": 15,
      "metadata": {
        "autoscroll": "auto"
      },
      "outputs": [],
      "source": "%sql\nselect * from query_3;"
    },
    {
      "cell_type": "code",
      "execution_count": 16,
      "metadata": {
        "autoscroll": "auto"
      },
      "outputs": [],
      "source": "%spark\n// For each club, divide players into age groups: juniors in the range of 18 to 21, mid-age players in the range of 22 to 26, and seniors in the range of 27 and above. Then, determine the most effective age group within each team.\ndf.filter(col(\"league_name\").contains(\"English Premier\")).select(col(\"*\"), when(col(\"age\") \u003e\u003d 18 \u0026\u0026 col(\"age\") \u003c\u003d 21, \"junior\").when(col(\"age\") \u003e\u003d 22 \u0026\u0026 col(\"age\") \u003c\u003d 26, \"mid\").when(col(\"age\") \u003e\u003d 27, \"senior\").otherwise(\"UNKOWN\").alias(\"Age Group\"))\n    .groupBy(\"club_name\", \"Age Group\")\n    .pivot(\"Age Group\")\n    .agg(avg(\"overall\"))\n    .groupBy(\"club_name\").agg(avg(\"junior\").as(\"Average performance of juniors\"), avg(\"mid\").as(\"Average performance of mid\"), avg(\"senior\").as(\"Average performance of seniors\"), avg(\"UNKOWN\").as(\"Average performance of others\"))\n    .na.fill(0)\n    .createOrReplaceTempView(\"age_groups_per_team_premier_league\")\n"
    },
    {
      "cell_type": "code",
      "execution_count": 17,
      "metadata": {
        "autoscroll": "auto"
      },
      "outputs": [],
      "source": "%sql\nselect * from age_groups_per_team_premier_league order by club_name;\n"
    },
    {
      "cell_type": "code",
      "execution_count": 18,
      "metadata": {
        "autoscroll": "auto"
      },
      "outputs": [],
      "source": "%spark\n// For each club, divide players into age groups: juniors in the range of 18 to 21, mid-age players in the range of 22 to 26, and seniors in the range of 27 and above. Then, determine the most effective age group within each team.\ndf.select(col(\"*\"), when(col(\"age\") \u003e\u003d 18 \u0026\u0026 col(\"age\") \u003c\u003d 21, \"junior\").when(col(\"age\") \u003e\u003d 22 \u0026\u0026 col(\"age\") \u003c\u003d 26, \"mid\").when(col(\"age\") \u003e\u003d 27, \"senior\").otherwise(\"UNKOWN\").alias(\"Age Category\"))\n    .groupBy(\"club_name\", \"Age Category\")\n    .pivot(\"Age Category\")\n    .agg(avg(\"overall\"))\n    .groupBy(\"club_name\").agg(avg(\"junior\").as(\"Average performance of juniors\"), avg(\"mid\").as(\"Average performance of mid\"), avg(\"senior\").as(\"Average performance of seniors\"), avg(\"UNKOWN\").as(\"Average performance of others\"))\n    .na.fill(0)\n    .createOrReplaceTempView(\"age_groups_per_team\")\n"
    },
    {
      "cell_type": "code",
      "execution_count": 19,
      "metadata": {
        "autoscroll": "auto"
      },
      "outputs": [],
      "source": "%sql\nSELECT * FROM age_groups_per_team WHERE club_name IS NOT NULL ORDER BY club_name ASC LIMIT 100;\n"
    },
    {
      "cell_type": "code",
      "execution_count": 20,
      "metadata": {
        "autoscroll": "auto"
      },
      "outputs": [],
      "source": "%spark\n// Average age in each club\n\ndf.select(\"club_name\", \"age\")\n    .na.drop(\"all\", Seq(\"club_name\"))\n    .groupBy(\"club_name\")\n    .agg(ceil(avg(\"age\")).alias(\"age\"))\n    .orderBy(desc(\"age\"))\n    .createOrReplaceTempView(\"query_4\")\n"
    },
    {
      "cell_type": "code",
      "execution_count": 21,
      "metadata": {
        "autoscroll": "auto"
      },
      "outputs": [],
      "source": "%sql\nSELECT * FROM query_4;"
    },
    {
      "cell_type": "code",
      "execution_count": 22,
      "metadata": {
        "autoscroll": "auto"
      },
      "outputs": [],
      "source": "%spark\ndf.select(\"preferred_foot\")\n            .groupBy(\"preferred_foot\")\n            .count\n            .orderBy(desc(\"count\"))\n            .createOrReplaceTempView(\"query_5\")\n"
    },
    {
      "cell_type": "code",
      "execution_count": 23,
      "metadata": {
        "autoscroll": "auto"
      },
      "outputs": [],
      "source": "%sql\nSELECT * FROM query_5"
    },
    {
      "cell_type": "code",
      "execution_count": 24,
      "metadata": {
        "autoscroll": "auto"
      },
      "outputs": [],
      "source": "%spark\n// The most 100 player with high international reputation\ndf.select(\"short_name\", \"international_reputation\")\n            .orderBy(desc(\"international_reputation\"))\n            .limit(100)\n            .createOrReplaceTempView(\"query_6\")\n            "
    },
    {
      "cell_type": "code",
      "execution_count": 25,
      "metadata": {
        "autoscroll": "auto"
      },
      "outputs": [],
      "source": "%sql\nSELECT * FROM query_6;"
    },
    {
      "cell_type": "code",
      "execution_count": 26,
      "metadata": {
        "autoscroll": "auto"
      },
      "outputs": [],
      "source": "%spark\n// The most expensive 100 players\ndf.select(\"short_name\", \"value_eur\")\n    .orderBy(desc(\"value_eur\"))\n    .limit(100)\n    .createOrReplaceTempView(\"query_7\")\n"
    },
    {
      "cell_type": "code",
      "execution_count": 27,
      "metadata": {
        "autoscroll": "auto"
      },
      "outputs": [],
      "source": "%sql\nSELECT * FROM query_7;"
    },
    {
      "cell_type": "code",
      "execution_count": 28,
      "metadata": {
        "autoscroll": "auto"
      },
      "outputs": [],
      "source": "%spark\n// The most 100 expensive clubs\ndf.groupBy(\"club_name\")\n    .agg(sum(\"value_eur\").alias(\"total_value\"), count(\"short_name\").alias(\"Number of players\"))\n    .orderBy(desc(\"total_value\"))\n    .limit(100)\n    .createOrReplaceTempView(\"query_8\")"
    },
    {
      "cell_type": "code",
      "execution_count": 29,
      "metadata": {
        "autoscroll": "auto"
      },
      "outputs": [],
      "source": "%sql\nSELECT * FROM query_8"
    },
    {
      "cell_type": "code",
      "execution_count": 30,
      "metadata": {
        "autoscroll": "auto"
      },
      "outputs": [],
      "source": "%spark\n\ndf.select(\"short_name\", \"club_name\", \"value_eur\")\n            .filter(df(\"club_name\").isNotNull \u0026\u0026 df(\"value_eur\").isNotNull)\n            .filter(df(\"nationality\").like(\"Egypt\"))\n            .orderBy(desc(\"value_eur\"))\n            .limit(10)\n            .createOrReplaceTempView(\"query_9\")\n"
    },
    {
      "cell_type": "code",
      "execution_count": 31,
      "metadata": {
        "autoscroll": "auto"
      },
      "outputs": [],
      "source": "%sql\nSELECT * FROM query_9;"
    },
    {
      "cell_type": "code",
      "execution_count": 32,
      "metadata": {
        "autoscroll": "auto"
      },
      "outputs": [],
      "source": "%spark\ndf.filter(col(\"league_name\").contains(\"Premier\"))\n    .select(\"short_name\", \"club_name\", \"skill_ball_control\")\n    .orderBy(desc(\"skill_ball_control\"))\n    .limit(100)\n    .createOrReplaceTempView(\"query_10\")"
    },
    {
      "cell_type": "code",
      "execution_count": 33,
      "metadata": {
        "autoscroll": "auto"
      },
      "outputs": [],
      "source": "%sql\nSELECT * FROM query_10;"
    },
    {
      "cell_type": "code",
      "execution_count": 34,
      "metadata": {},
      "outputs": [],
      "source": "%%sql\n"
    }
  ]
}